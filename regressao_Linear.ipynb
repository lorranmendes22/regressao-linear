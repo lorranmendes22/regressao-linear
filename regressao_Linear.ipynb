{
  "nbformat": 4,
  "nbformat_minor": 0,
  "metadata": {
    "colab": {
      "private_outputs": true,
      "provenance": []
    },
    "kernelspec": {
      "name": "python3",
      "display_name": "Python 3"
    },
    "language_info": {
      "name": "python"
    }
  },
  "cells": [
    {
      "cell_type": "code",
      "execution_count": null,
      "metadata": {
        "id": "cJPb2hlPOMdo"
      },
      "outputs": [],
      "source": [
        "from flask import Flask\n",
        "import pandas as pd\n",
        "from sklearn.model_selection import train_test_split\n",
        "from sklearn.linear_model import LinearRegression\n",
        "\n",
        "api = Flask(__name__)\n",
        "\n",
        "# Tudo que eu escrever aqui vai rodar quando eu inicializar a api\n",
        "# Lendo dados\n",
        "dados = pd.read_csv(\"https://raw.githubusercontent.com/lorranmendes22/regressao-linear/main/casas%20-%20casas.csv\")\n",
        "\n",
        "# Separar as features - (x) e classes/variável-alvo (0,1) - (y)\n",
        "x = dados[['tamanho']] # DataFrame por isso passo uma lista de colunas do que eu quero\n",
        "y = dados['preco'] # Array\n",
        "\n",
        "# Separar treino e teste\n",
        "SEED = 42\n",
        "x_train, x_test, y_train, y_test = train_test_split(x, y, test_size=0.3, random_state=SEED)\n",
        "\n",
        "# Criar o modelo\n",
        "modelo = LinearRegression()\n",
        "modelo.fit(x_train, y_train)\n",
        "\n",
        "# Imprimir os coeficientes y = ax + b\n",
        "# x - tamanho\n",
        "# a - coeficiente de inclinação da reta\n",
        "# b - deslocamento da reta no eixo y\n",
        "print(f\"y = {modelo.coef_[0]}x + {modelo.intercept_}\")\n",
        "\n",
        "@api.route(\"/preco/<int:tamanho>\") # Get\n",
        "def calcula_preco(tamanho):\n",
        "    result = modelo.predict([[tamanho]])\n",
        "    return f\"O preço da casa é: {result[0]}\"\n",
        "\n",
        "@api.route(\"/preco-avancado/<int:tamanho>\") # Get\n",
        "def calcula_preco_avancado(tamanho):\n",
        "    result = modelo.predict([[tamanho]])\n",
        "    return f\"O preço da casa é: {result[0]}\"\n",
        "\n",
        "if __name__ == \"__main__\":\n",
        "    api.run(debug=True)"
      ]
    },
    {
      "cell_type": "code",
      "source": [],
      "metadata": {
        "id": "fKS9KLMTOnvo"
      },
      "execution_count": null,
      "outputs": []
    }
  ]
}